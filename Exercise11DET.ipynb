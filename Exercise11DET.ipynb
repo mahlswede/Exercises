{
 "cells": [
  {
   "cell_type": "code",
   "execution_count": 380,
   "metadata": {},
   "outputs": [],
   "source": [
    "import pandas as pd\n",
    "import numpy as np\n",
    "from sklearn.tree import DecisionTreeClassifier"
   ]
  },
  {
   "cell_type": "code",
   "execution_count": 384,
   "metadata": {},
   "outputs": [
    {
     "data": {
      "text/html": [
       "<div>\n",
       "<style scoped>\n",
       "    .dataframe tbody tr th:only-of-type {\n",
       "        vertical-align: middle;\n",
       "    }\n",
       "\n",
       "    .dataframe tbody tr th {\n",
       "        vertical-align: top;\n",
       "    }\n",
       "\n",
       "    .dataframe thead th {\n",
       "        text-align: right;\n",
       "    }\n",
       "</style>\n",
       "<table border=\"1\" class=\"dataframe\">\n",
       "  <thead>\n",
       "    <tr style=\"text-align: right;\">\n",
       "      <th></th>\n",
       "      <th>REC</th>\n",
       "      <th>Age</th>\n",
       "      <th>Income</th>\n",
       "      <th>Student</th>\n",
       "      <th>Credit_rating</th>\n",
       "      <th>Buys_computer</th>\n",
       "    </tr>\n",
       "  </thead>\n",
       "  <tbody>\n",
       "    <tr>\n",
       "      <th>0</th>\n",
       "      <td>r1</td>\n",
       "      <td>28</td>\n",
       "      <td>High</td>\n",
       "      <td>No</td>\n",
       "      <td>Fair</td>\n",
       "      <td>No</td>\n",
       "    </tr>\n",
       "    <tr>\n",
       "      <th>1</th>\n",
       "      <td>r2</td>\n",
       "      <td>28</td>\n",
       "      <td>High</td>\n",
       "      <td>No</td>\n",
       "      <td>Excellent</td>\n",
       "      <td>No</td>\n",
       "    </tr>\n",
       "    <tr>\n",
       "      <th>2</th>\n",
       "      <td>r3</td>\n",
       "      <td>36</td>\n",
       "      <td>High</td>\n",
       "      <td>No</td>\n",
       "      <td>Fair</td>\n",
       "      <td>Yes</td>\n",
       "    </tr>\n",
       "    <tr>\n",
       "      <th>3</th>\n",
       "      <td>r4</td>\n",
       "      <td>42</td>\n",
       "      <td>Medium</td>\n",
       "      <td>No</td>\n",
       "      <td>Fair</td>\n",
       "      <td>Yes</td>\n",
       "    </tr>\n",
       "    <tr>\n",
       "      <th>4</th>\n",
       "      <td>r5</td>\n",
       "      <td>42</td>\n",
       "      <td>Low</td>\n",
       "      <td>Yes</td>\n",
       "      <td>Fair</td>\n",
       "      <td>Yes</td>\n",
       "    </tr>\n",
       "    <tr>\n",
       "      <th>5</th>\n",
       "      <td>r6</td>\n",
       "      <td>42</td>\n",
       "      <td>Low</td>\n",
       "      <td>Yes</td>\n",
       "      <td>Excellent</td>\n",
       "      <td>No</td>\n",
       "    </tr>\n",
       "    <tr>\n",
       "      <th>6</th>\n",
       "      <td>r7</td>\n",
       "      <td>36</td>\n",
       "      <td>Low</td>\n",
       "      <td>Yes</td>\n",
       "      <td>Excellent</td>\n",
       "      <td>Yes</td>\n",
       "    </tr>\n",
       "    <tr>\n",
       "      <th>7</th>\n",
       "      <td>r8</td>\n",
       "      <td>28</td>\n",
       "      <td>Medium</td>\n",
       "      <td>No</td>\n",
       "      <td>Fair</td>\n",
       "      <td>No</td>\n",
       "    </tr>\n",
       "    <tr>\n",
       "      <th>8</th>\n",
       "      <td>r9</td>\n",
       "      <td>28</td>\n",
       "      <td>Low</td>\n",
       "      <td>Yes</td>\n",
       "      <td>Fair</td>\n",
       "      <td>Yes</td>\n",
       "    </tr>\n",
       "    <tr>\n",
       "      <th>9</th>\n",
       "      <td>r10</td>\n",
       "      <td>42</td>\n",
       "      <td>Medium</td>\n",
       "      <td>Yes</td>\n",
       "      <td>Fair</td>\n",
       "      <td>Yes</td>\n",
       "    </tr>\n",
       "    <tr>\n",
       "      <th>10</th>\n",
       "      <td>r11</td>\n",
       "      <td>28</td>\n",
       "      <td>Medium</td>\n",
       "      <td>Yes</td>\n",
       "      <td>Excellent</td>\n",
       "      <td>Yes</td>\n",
       "    </tr>\n",
       "    <tr>\n",
       "      <th>11</th>\n",
       "      <td>r12</td>\n",
       "      <td>36</td>\n",
       "      <td>Medium</td>\n",
       "      <td>No</td>\n",
       "      <td>Excellent</td>\n",
       "      <td>Yes</td>\n",
       "    </tr>\n",
       "    <tr>\n",
       "      <th>12</th>\n",
       "      <td>r13</td>\n",
       "      <td>36</td>\n",
       "      <td>High</td>\n",
       "      <td>Yes</td>\n",
       "      <td>Fair</td>\n",
       "      <td>Yes</td>\n",
       "    </tr>\n",
       "    <tr>\n",
       "      <th>13</th>\n",
       "      <td>r14</td>\n",
       "      <td>42</td>\n",
       "      <td>Medium</td>\n",
       "      <td>No</td>\n",
       "      <td>Excellent</td>\n",
       "      <td>No</td>\n",
       "    </tr>\n",
       "    <tr>\n",
       "      <th>14</th>\n",
       "      <td>r15</td>\n",
       "      <td>28</td>\n",
       "      <td>Medium</td>\n",
       "      <td>No</td>\n",
       "      <td>Excellent</td>\n",
       "      <td>No</td>\n",
       "    </tr>\n",
       "    <tr>\n",
       "      <th>15</th>\n",
       "      <td>r16</td>\n",
       "      <td>28</td>\n",
       "      <td>Low</td>\n",
       "      <td>No</td>\n",
       "      <td>Fair</td>\n",
       "      <td>No</td>\n",
       "    </tr>\n",
       "    <tr>\n",
       "      <th>16</th>\n",
       "      <td>r17</td>\n",
       "      <td>28</td>\n",
       "      <td>Low</td>\n",
       "      <td>No</td>\n",
       "      <td>Excellent</td>\n",
       "      <td>No</td>\n",
       "    </tr>\n",
       "    <tr>\n",
       "      <th>17</th>\n",
       "      <td>r18</td>\n",
       "      <td>36</td>\n",
       "      <td>Low</td>\n",
       "      <td>Yes</td>\n",
       "      <td>Fair</td>\n",
       "      <td>Yes</td>\n",
       "    </tr>\n",
       "    <tr>\n",
       "      <th>18</th>\n",
       "      <td>r19</td>\n",
       "      <td>42</td>\n",
       "      <td>Medium</td>\n",
       "      <td>Yes</td>\n",
       "      <td>Excellent</td>\n",
       "      <td>Yes</td>\n",
       "    </tr>\n",
       "    <tr>\n",
       "      <th>19</th>\n",
       "      <td>r10</td>\n",
       "      <td>36</td>\n",
       "      <td>High</td>\n",
       "      <td>No</td>\n",
       "      <td>Excellent</td>\n",
       "      <td>Yes</td>\n",
       "    </tr>\n",
       "  </tbody>\n",
       "</table>\n",
       "</div>"
      ],
      "text/plain": [
       "    REC  Age  Income Student Credit_rating Buys_computer\n",
       "0    r1   28    High      No          Fair            No\n",
       "1    r2   28    High      No     Excellent            No\n",
       "2    r3   36    High      No          Fair           Yes\n",
       "3    r4   42  Medium      No          Fair           Yes\n",
       "4    r5   42     Low     Yes          Fair           Yes\n",
       "5    r6   42     Low     Yes     Excellent            No\n",
       "6    r7   36     Low     Yes     Excellent           Yes\n",
       "7    r8   28  Medium      No          Fair            No\n",
       "8    r9   28     Low     Yes          Fair           Yes\n",
       "9   r10   42  Medium     Yes          Fair           Yes\n",
       "10  r11   28  Medium     Yes     Excellent           Yes\n",
       "11  r12   36  Medium      No     Excellent           Yes\n",
       "12  r13   36    High     Yes          Fair           Yes\n",
       "13  r14   42  Medium      No     Excellent            No\n",
       "14  r15   28  Medium      No     Excellent            No\n",
       "15  r16   28     Low      No          Fair            No\n",
       "16  r17   28     Low      No     Excellent            No\n",
       "17  r18   36     Low     Yes          Fair           Yes\n",
       "18  r19   42  Medium     Yes     Excellent           Yes\n",
       "19  r10   36    High      No     Excellent           Yes"
      ]
     },
     "execution_count": 384,
     "metadata": {},
     "output_type": "execute_result"
    }
   ],
   "source": [
    "# df = pd.read_csv('https://raw.githubusercontent.com/mahlswede/Exercises/master/people.csv')\n",
    "# we replaced <30 with 28, 31..40 with 36, >40 with 42, \n",
    "#df = pd.read_csv('people2.csv') \n",
    "df = pd.read_csv('https://raw.githubusercontent.com/mahlswede/Exercises/master/people2.csv')\n",
    "df"
   ]
  },
  {
   "cell_type": "code",
   "execution_count": 385,
   "metadata": {},
   "outputs": [
    {
     "data": {
      "text/plain": [
       "Index(['REC', 'Age', 'Income', 'Student', 'Credit_rating', 'Buys_computer'], dtype='object')"
      ]
     },
     "execution_count": 385,
     "metadata": {},
     "output_type": "execute_result"
    }
   ],
   "source": [
    "df.columns"
   ]
  },
  {
   "cell_type": "code",
   "execution_count": 386,
   "metadata": {},
   "outputs": [],
   "source": [
    "# Entropy\n",
    "import math\n",
    "\n",
    "def entropy(x,y):\n",
    "    if x == 0 or y == 0:\n",
    "        return 0\n",
    "    else:\n",
    "        r = -x/(x+y)*math.log2(x/(x+y))-y/(x+y)*math.log2(y/(x+y))\n",
    "        return r"
   ]
  },
  {
   "cell_type": "code",
   "execution_count": 387,
   "metadata": {},
   "outputs": [
    {
     "data": {
      "text/plain": [
       "0.9709505944546686"
      ]
     },
     "execution_count": 387,
     "metadata": {},
     "output_type": "execute_result"
    }
   ],
   "source": [
    "#test the function entropy\n",
    "entropy(12,8)"
   ]
  },
  {
   "cell_type": "code",
   "execution_count": 388,
   "metadata": {},
   "outputs": [],
   "source": [
    "# replace the strings\n",
    "df['Student'].replace('Yes', 1, inplace=True)\n",
    "df['Student'].replace('No', 0, inplace=True)"
   ]
  },
  {
   "cell_type": "code",
   "execution_count": 389,
   "metadata": {},
   "outputs": [],
   "source": [
    "df['Income'].replace('High', 5000, inplace=True)\n",
    "df['Income'].replace('Medium', 3000, inplace=True)\n",
    "df['Income'].replace('Low', 2000, inplace=True)"
   ]
  },
  {
   "cell_type": "code",
   "execution_count": 390,
   "metadata": {},
   "outputs": [],
   "source": [
    "df['Credit_rating'].replace('Excellent', 2, inplace=True)\n",
    "df['Credit_rating'].replace('Fair', 1, inplace=True)"
   ]
  },
  {
   "cell_type": "code",
   "execution_count": 391,
   "metadata": {},
   "outputs": [],
   "source": [
    "# replace the strings\n",
    "# these strings must not replaced, otherwise error graphviz/classnames \"must be string not int64\" \n",
    "#df['Buys_computer'].replace('Yes', 1, inplace=True)\n",
    "#df['Buys_computer'].replace('No', 0, inplace=True)"
   ]
  },
  {
   "cell_type": "code",
   "execution_count": 392,
   "metadata": {},
   "outputs": [],
   "source": [
    "df.drop(['REC'], axis=1, inplace=True)"
   ]
  },
  {
   "cell_type": "code",
   "execution_count": 393,
   "metadata": {},
   "outputs": [
    {
     "data": {
      "text/plain": [
       "array([[28, 5000, 0, 1, 'No'],\n",
       "       [28, 5000, 0, 2, 'No'],\n",
       "       [36, 5000, 0, 1, 'Yes'],\n",
       "       [42, 3000, 0, 1, 'Yes'],\n",
       "       [42, 2000, 1, 1, 'Yes'],\n",
       "       [42, 2000, 1, 2, 'No'],\n",
       "       [36, 2000, 1, 2, 'Yes'],\n",
       "       [28, 3000, 0, 1, 'No'],\n",
       "       [28, 2000, 1, 1, 'Yes'],\n",
       "       [42, 3000, 1, 1, 'Yes'],\n",
       "       [28, 3000, 1, 2, 'Yes'],\n",
       "       [36, 3000, 0, 2, 'Yes'],\n",
       "       [36, 5000, 1, 1, 'Yes'],\n",
       "       [42, 3000, 0, 2, 'No'],\n",
       "       [28, 3000, 0, 2, 'No'],\n",
       "       [28, 2000, 0, 1, 'No'],\n",
       "       [28, 2000, 0, 2, 'No'],\n",
       "       [36, 2000, 1, 1, 'Yes'],\n",
       "       [42, 3000, 1, 2, 'Yes'],\n",
       "       [36, 5000, 0, 2, 'Yes']], dtype=object)"
      ]
     },
     "execution_count": 393,
     "metadata": {},
     "output_type": "execute_result"
    }
   ],
   "source": [
    "# let's see the dateframe now\n",
    "df.values"
   ]
  },
  {
   "cell_type": "code",
   "execution_count": 394,
   "metadata": {},
   "outputs": [
    {
     "data": {
      "text/plain": [
       "array([[28, 5000, 0, 1],\n",
       "       [28, 5000, 0, 2],\n",
       "       [36, 5000, 0, 1],\n",
       "       [42, 3000, 0, 1],\n",
       "       [42, 2000, 1, 1],\n",
       "       [42, 2000, 1, 2],\n",
       "       [36, 2000, 1, 2],\n",
       "       [28, 3000, 0, 1],\n",
       "       [28, 2000, 1, 1],\n",
       "       [42, 3000, 1, 1],\n",
       "       [28, 3000, 1, 2],\n",
       "       [36, 3000, 0, 2],\n",
       "       [36, 5000, 1, 1],\n",
       "       [42, 3000, 0, 2],\n",
       "       [28, 3000, 0, 2],\n",
       "       [28, 2000, 0, 1],\n",
       "       [28, 2000, 0, 2],\n",
       "       [36, 2000, 1, 1],\n",
       "       [42, 3000, 1, 2],\n",
       "       [36, 5000, 0, 2]], dtype=object)"
      ]
     },
     "execution_count": 394,
     "metadata": {},
     "output_type": "execute_result"
    }
   ],
   "source": [
    "# due to df.drop('REC') index changed\n",
    "#X = df.values[:, 1:4]\n",
    "X = df.values[:, 0:4]\n",
    "# due to df.drop('REC') index changed\n",
    "#y = df.values[:,5]\n",
    "y = df.values[:,4]\n",
    "X"
   ]
  },
  {
   "cell_type": "code",
   "execution_count": 395,
   "metadata": {},
   "outputs": [
    {
     "data": {
      "text/plain": [
       "array(['No', 'No', 'Yes', 'Yes', 'Yes', 'No', 'Yes', 'No', 'Yes', 'Yes',\n",
       "       'Yes', 'Yes', 'Yes', 'No', 'No', 'No', 'No', 'Yes', 'Yes', 'Yes'],\n",
       "      dtype=object)"
      ]
     },
     "execution_count": 395,
     "metadata": {},
     "output_type": "execute_result"
    }
   ],
   "source": [
    "y"
   ]
  },
  {
   "cell_type": "code",
   "execution_count": 396,
   "metadata": {},
   "outputs": [
    {
     "data": {
      "text/plain": [
       "DecisionTreeClassifier(class_weight=None, criterion='gini', max_depth=2,\n",
       "            max_features=None, max_leaf_nodes=None,\n",
       "            min_impurity_decrease=0.0, min_impurity_split=None,\n",
       "            min_samples_leaf=1, min_samples_split=2,\n",
       "            min_weight_fraction_leaf=0.0, presort=False, random_state=None,\n",
       "            splitter='best')"
      ]
     },
     "execution_count": 396,
     "metadata": {},
     "output_type": "execute_result"
    }
   ],
   "source": [
    "tree_clf = DecisionTreeClassifier(max_depth=2)\n",
    "tree_clf.fit(X, y)"
   ]
  },
  {
   "cell_type": "code",
   "execution_count": 398,
   "metadata": {},
   "outputs": [],
   "source": [
    "from sklearn.tree import export_graphviz\n",
    "\n",
    "export_graphviz(\n",
    "        tree_clf,\n",
    "        out_file=\"buycomputer.dot\",\n",
    "        #feature_names=df.values[:, 1:4],\n",
    "        feature_names = ['Age','Income','Student','Credit_rating'],\n",
    "        class_names=df.values[:,4],\n",
    "        rounded=True,\n",
    "        filled=True\n",
    ")"
   ]
  },
  {
   "cell_type": "code",
   "execution_count": 399,
   "metadata": {},
   "outputs": [],
   "source": [
    "# in cmd enter:\n",
    "# .\\graphviz\\release\\bin\\dot.exe -Tpng buycomputer.dot -o buycomputer.png"
   ]
  },
  {
   "cell_type": "code",
   "execution_count": 400,
   "metadata": {},
   "outputs": [
    {
     "data": {
      "image/png": "[encoded data removed]",
      "text/plain": [
       "<IPython.core.display.Image object>"
      ]
     },
     "execution_count": 400,
     "metadata": {
      "image/png": {
       "height": 320,
       "width": 320
      }
     },
     "output_type": "execute_result"
    }
   ],
   "source": [
    "from IPython.display import Image\n",
    "Image(\"buycomputer.png\", width=320, height=320)"
   ]
  },
  {
   "cell_type": "code",
   "execution_count": null,
   "metadata": {},
   "outputs": [],
   "source": [
    "# argghgh, a lot of scrap\n",
    "# giving up here :(("
   ]
  }
 ],
 "metadata": {
  "kernelspec": {
   "display_name": "Python 3",
   "language": "python",
   "name": "python3"
  },
  "language_info": {
   "codemirror_mode": {
    "name": "ipython",
    "version": 3
   },
   "file_extension": ".py",
   "mimetype": "text/x-python",
   "name": "python",
   "nbconvert_exporter": "python",
   "pygments_lexer": "ipython3",
   "version": "3.6.4"
  }
 },
 "nbformat": 4,
 "nbformat_minor": 2
}
